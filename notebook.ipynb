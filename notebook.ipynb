{
  "cells": [
    {
      "cell_type": "markdown",
      "metadata": {
        "id": "view-in-github",
        "colab_type": "text"
      },
      "source": [
        "<a href=\"https://colab.research.google.com/github/harman2418/Assignment_Harman_1022/blob/main/notebook.ipynb\" target=\"_parent\"><img src=\"https://colab.research.google.com/assets/colab-badge.svg\" alt=\"Open In Colab\"/></a>"
      ]
    },
    {
      "cell_type": "markdown",
      "source": [
        "11.write a python program to swap two variables using a temporary variable and without using a temporary variable.\n"
      ],
      "metadata": {
        "id": "JWpZ4djSxhII"
      }
    },
    {
      "cell_type": "code",
      "source": [
        "# swapping using a temporary variable\n",
        "print(\"using a temporary variable\")\n",
        "a=10\n",
        "b=20\n",
        "print(f\"Before swapping:a={a},b={b}\")\n",
        "temp=a\n",
        "a=b\n",
        "b=temp\n",
        "print(f\"After swapping:a={a},b={b}\")\n",
        "\n",
        "#swapping without using a temporary variable\n",
        "print(\"/n without using a temporary variable\")\n",
        "p=100\n",
        "q=200\n",
        "print(f\"Before swapping:p={p},q={q}\")\n",
        "p,q=q,p\n",
        "print(f\"After swapping:p={p},q={q}\")"
      ],
      "metadata": {
        "colab": {
          "base_uri": "https://localhost:8080/"
        },
        "id": "GOucLd4LyfqU",
        "outputId": "835d73f0-a8e4-4054-c0de-d80eebf6fb8e"
      },
      "execution_count": 1,
      "outputs": [
        {
          "output_type": "stream",
          "name": "stdout",
          "text": [
            "using a temporary variable\n",
            "Before swapping:a=10,b=20\n",
            "After swapping:a=20,b=10\n",
            "/n without using a temporary variable\n",
            "Before swapping:p=100,q=200\n",
            "After swapping:p=200,q=100\n"
          ]
        }
      ]
    },
    {
      "cell_type": "markdown",
      "source": [
        "12.write a python (WAPP) to make a square of number 6 by using number pattern 6*6.\n"
      ],
      "metadata": {
        "id": "qgW73ND81Xdm"
      }
    },
    {
      "cell_type": "code",
      "source": [
        "n=6\n",
        "for i in range(n):\n",
        "  for j in range(n):\n",
        "    print(6,end=\"\")\n",
        "  print()"
      ],
      "metadata": {
        "colab": {
          "base_uri": "https://localhost:8080/"
        },
        "id": "6PcuJauw2AU6",
        "outputId": "249d8d2e-6483-49a9-8e9a-dc5bffe66894"
      },
      "execution_count": 7,
      "outputs": [
        {
          "output_type": "stream",
          "name": "stdout",
          "text": [
            "666666\n",
            "666666\n",
            "666666\n",
            "666666\n",
            "666666\n",
            "666666\n"
          ]
        }
      ]
    },
    {
      "cell_type": "code",
      "source": [],
      "metadata": {
        "id": "Eqg2KTL-4XZP"
      },
      "execution_count": null,
      "outputs": []
    },
    {
      "cell_type": "markdown",
      "source": [
        "13. (a)Write a program to calculate the factorial of a number using a loop.\n",
        "\n"
      ],
      "metadata": {
        "id": "ZtQIqN_g4aab"
      }
    },
    {
      "cell_type": "code",
      "source": [
        "num = int(input(\"Enter a number: \"))\n",
        "factorial = 1\n",
        "for i in range(1, num + 1):\n",
        "        factorial *= i\n",
        "print(f\"The factorial of {num} is {factorial}\")\n"
      ],
      "metadata": {
        "id": "WLY_iawv4k67",
        "outputId": "93b880fb-59e2-405b-e78e-a2d7df619b33",
        "colab": {
          "base_uri": "https://localhost:8080/"
        }
      },
      "execution_count": 8,
      "outputs": [
        {
          "output_type": "stream",
          "name": "stdout",
          "text": [
            "Enter a number: 5\n",
            "The factorial of 5 is 120\n"
          ]
        }
      ]
    },
    {
      "cell_type": "markdown",
      "source": [
        "13.(b) Write a Python program to simulate a simple password system:\n",
        "\n",
        ".User has 3 attempts to enter the correct password “admin123”.\n",
        "\n",
        ".If correct, print “Access Granted”.\n",
        "\n",
        ".If incorrect after 3 attempts, print “Access Denied\"\n"
      ],
      "metadata": {
        "id": "aWtzYsBS5w7J"
      }
    },
    {
      "cell_type": "code",
      "source": [
        "correct_password = \"admin123\"\n",
        "attempts = 3\n",
        "for i in range(attempts):\n",
        "    password = input(\"Enter password: \")\n",
        "\n",
        "    if password == correct_password:\n",
        "        print(\"Access Granted\")\n",
        "        break\n",
        "    else:\n",
        "        print(f\"Incorrect password! Attempts left: {attempts - (i+1)}\")\n",
        "\n",
        "else:\n",
        "    print(\"Access Denied\")\n",
        "\n",
        ""
      ],
      "metadata": {
        "id": "e2JdCw-L6DZ2",
        "outputId": "5c56e014-c088-495c-8b70-7b441e6f5e09",
        "colab": {
          "base_uri": "https://localhost:8080/"
        }
      },
      "execution_count": 9,
      "outputs": [
        {
          "output_type": "stream",
          "name": "stdout",
          "text": [
            "Enter password: 2\n",
            "Incorrect password! Attempts left: 2\n",
            "Enter password: harman\n",
            "Incorrect password! Attempts left: 1\n",
            "Enter password: harman\n",
            "Incorrect password! Attempts left: 0\n",
            "Access Denied\n"
          ]
        }
      ]
    },
    {
      "cell_type": "code",
      "source": [],
      "metadata": {
        "id": "VDg16t8-59w4"
      },
      "execution_count": null,
      "outputs": []
    }
  ],
  "metadata": {
    "colab": {
      "name": "Welcome to Colab",
      "toc_visible": true,
      "provenance": [],
      "include_colab_link": true
    },
    "kernelspec": {
      "display_name": "Python 3",
      "name": "python3"
    }
  },
  "nbformat": 4,
  "nbformat_minor": 0
}